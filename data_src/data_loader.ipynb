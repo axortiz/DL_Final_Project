{
 "cells": [
  {
   "cell_type": "code",
   "execution_count": 15,
   "metadata": {},
   "outputs": [],
   "source": [
    "import pandas as pd\n",
    "import numpy as np\n",
    "from sklearn.preprocessing import LabelEncoder\n",
    "from sklearn.impute import SimpleImputer\n",
    "import torch.nn as nn \n",
    "import torch\n",
    "from torch.utils.data import Dataset, DataLoader"
   ]
  },
  {
   "cell_type": "code",
   "execution_count": 16,
   "metadata": {},
   "outputs": [
    {
     "data": {
      "text/plain": [
       "(177, 18)"
      ]
     },
     "execution_count": 16,
     "metadata": {},
     "output_type": "execute_result"
    }
   ],
   "source": [
    "df = pd.read_csv('train.csv')\n",
    "\n",
    "df.shape"
   ]
  },
  {
   "cell_type": "code",
   "execution_count": 25,
   "metadata": {},
   "outputs": [],
   "source": [
    "def load_and_process_data(filepath):\n",
    "    # Load data\n",
    "    df = pd.read_csv(filepath)\n",
    "    \n",
    "    # Replace 'null' strings with NaN\n",
    "    df.replace('null', np.nan, inplace=True)\n",
    "    \n",
    "    # Convert numeric columns to appropriate data types\n",
    "    numeric_columns = [\n",
    "        'f_boxer_age', 'f_boxer_height', 'f_boxer_reach',\n",
    "        'f_boxer_won', 'f_boxer_lost', 'f_boxer_KOs',\n",
    "        's_boxer_age', 's_boxer_height', 's_boxer_reach',\n",
    "        's_boxer_won', 's_boxer_lost', 's_boxer_KOs',\n",
    "        'matchRounds'\n",
    "    ]\n",
    "    df[numeric_columns] = df[numeric_columns].apply(pd.to_numeric, errors='coerce')\n",
    "    \n",
    "    # Handle missing values\n",
    "    imputer = SimpleImputer(strategy='mean')\n",
    "    df[numeric_columns] = imputer.fit_transform(df[numeric_columns])\n",
    "    \n",
    "    # Encode categorical variables\n",
    "    label_encoders = {}\n",
    "    categorical_columns = ['f_boxer_result', 'fightEnd']\n",
    "    for col in categorical_columns:\n",
    "        le = LabelEncoder()\n",
    "        df[col] = le.fit_transform(df[col].astype(str))\n",
    "        label_encoders[col] = le\n",
    "    \n",
    "    # Encode target variable with fixed classes\n",
    "    def encode_winner(row):\n",
    "        if row['winner'] == row['f_boxer']:\n",
    "            return 0  # First boxer wins\n",
    "        elif row['winner'] == row['s_boxer']:\n",
    "            return 1  # Second boxer wins\n",
    "        else:\n",
    "            return 2  # Draw\n",
    "\n",
    "    df['winner_encoded'] = df.apply(encode_winner, axis=1)\n",
    "\n",
    "    # Drop boxers' names\n",
    "    df = df.drop(['f_boxer', 's_boxer'], axis=1)\n",
    "\n",
    "    \n",
    "    # Features and target\n",
    "    X = df.drop(['winner', 'winner_encoded'], axis=1).values\n",
    "    y = df['winner_encoded'].values\n",
    "    \n",
    "    return X, y"
   ]
  },
  {
   "cell_type": "code",
   "execution_count": 26,
   "metadata": {},
   "outputs": [],
   "source": [
    "x_train, y_train = load_and_process_data('train.csv')"
   ]
  },
  {
   "cell_type": "code",
   "execution_count": 33,
   "metadata": {},
   "outputs": [
    {
     "name": "stdout",
     "output_type": "stream",
     "text": [
      "[0 1 2] [168   4   5]\n",
      "Training Class Distribution: {np.int64(0): np.int64(168), np.int64(1): np.int64(4), np.int64(2): np.int64(5)}\n"
     ]
    }
   ],
   "source": [
    "unique, counts = np.unique(y_train, return_counts=True)\n",
    "print(unique, counts)\n",
    "train_class_distribution = dict(zip(unique, counts))\n",
    "print(\"Training Class Distribution:\", train_class_distribution)"
   ]
  },
  {
   "cell_type": "code",
   "execution_count": null,
   "metadata": {},
   "outputs": [],
   "source": []
  },
  {
   "cell_type": "code",
   "execution_count": 34,
   "metadata": {},
   "outputs": [
    {
     "name": "stdout",
     "output_type": "stream",
     "text": [
      "[0 2] [ 2 18]\n"
     ]
    }
   ],
   "source": [
    "x_val, y_val = load_and_process_data('validation.csv')\n",
    "unique, counts = np.unique(y_val, return_counts=True)\n",
    "print(unique, counts)"
   ]
  },
  {
   "cell_type": "code",
   "execution_count": null,
   "metadata": {},
   "outputs": [],
   "source": []
  },
  {
   "cell_type": "code",
   "execution_count": null,
   "metadata": {},
   "outputs": [],
   "source": []
  },
  {
   "cell_type": "code",
   "execution_count": null,
   "metadata": {},
   "outputs": [],
   "source": []
  },
  {
   "cell_type": "code",
   "execution_count": null,
   "metadata": {},
   "outputs": [],
   "source": []
  },
  {
   "cell_type": "code",
   "execution_count": 23,
   "metadata": {},
   "outputs": [
    {
     "data": {
      "text/plain": [
       "array(['Albert Onolunose', 'Antonio Duarte', 'Austin Trout',\n",
       "       'Breyon Gorham', 'Brian Carlos Castano', 'Charles Baylor',\n",
       "       'Chris Norrad', 'Corrie Sanders', 'Craig McEwan', 'Draw',\n",
       "       'Emmanuel Medina', 'Erik Rafael Esquivel', 'Erislandy Lara',\n",
       "       'Geovany Bruzon', 'Gilberto Ramirez', 'Hugo Lomeli',\n",
       "       'Imran Haddabah', 'Jarrett Hurd', 'Jermall Charlo',\n",
       "       'Joe Smith Jr.', 'Jordan Panthen', 'Josesito Lopez',\n",
       "       'Juan Carlos Raygosa', 'Kubrat Pulev', 'Lamon Brewster',\n",
       "       'Lawrence King', 'Louisbert Altidor', 'Marco Antonio Rubio',\n",
       "       'Nagy Aguilera', 'Omar Ulises Huerta', 'Oscar Alan Perez',\n",
       "       'Rafal Wolczecki', 'Rigoberto Alvarez', 'Rolando Soto',\n",
       "       'Ruben Padilla', 'Santana Draper', 'Santiago Ramos',\n",
       "       'Saul Alvarez', 'Serhii Bohachuk', 'Steve Geffrard', 'Todd Manuel',\n",
       "       'Travis Scott', 'Tyson Fury', 'Victor Manuel Palacios',\n",
       "       'Wladimir Klitschko'], dtype=object)"
      ]
     },
     "execution_count": 23,
     "metadata": {},
     "output_type": "execute_result"
    }
   ],
   "source": [
    "X.shape\n",
    "y.shape\n",
    "target_le.classes_"
   ]
  }
 ],
 "metadata": {
  "kernelspec": {
   "display_name": "final_project",
   "language": "python",
   "name": "python3"
  },
  "language_info": {
   "codemirror_mode": {
    "name": "ipython",
    "version": 3
   },
   "file_extension": ".py",
   "mimetype": "text/x-python",
   "name": "python",
   "nbconvert_exporter": "python",
   "pygments_lexer": "ipython3",
   "version": "3.11.5"
  }
 },
 "nbformat": 4,
 "nbformat_minor": 2
}
